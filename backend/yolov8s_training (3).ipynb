{
  "nbformat": 4,
  "nbformat_minor": 0,
  "metadata": {
    "colab": {
      "provenance": [],
      "gpuType": "T4"
    },
    "kernelspec": {
      "name": "python3",
      "display_name": "Python 3"
    },
    "language_info": {
      "name": "python"
    },
    "accelerator": "GPU"
  },
  "cells": [
    {
      "cell_type": "code",
      "execution_count": 1,
      "metadata": {
        "colab": {
          "base_uri": "https://localhost:8080/"
        },
        "id": "1IeTxAJJ7i16",
        "outputId": "7d15e57b-a83f-4a5c-df0d-9e5ffe39d3ae"
      },
      "outputs": [
        {
          "output_type": "stream",
          "name": "stdout",
          "text": [
            "Mounted at /content/drive\n"
          ]
        }
      ],
      "source": [
        "from google.colab import drive\n",
        "drive.mount('/content/drive')\n"
      ]
    },
    {
      "cell_type": "code",
      "source": [
        "!pip install ultralytics"
      ],
      "metadata": {
        "colab": {
          "base_uri": "https://localhost:8080/"
        },
        "id": "yqxVlaqMOrdy",
        "outputId": "e6555789-c6d9-4621-c4ae-77ea31aba3df"
      },
      "execution_count": 3,
      "outputs": [
        {
          "output_type": "stream",
          "name": "stdout",
          "text": [
            "Collecting ultralytics\n",
            "  Downloading ultralytics-8.3.96-py3-none-any.whl.metadata (35 kB)\n",
            "Requirement already satisfied: numpy<=2.1.1,>=1.23.0 in /usr/local/lib/python3.11/dist-packages (from ultralytics) (2.0.2)\n",
            "Requirement already satisfied: matplotlib>=3.3.0 in /usr/local/lib/python3.11/dist-packages (from ultralytics) (3.10.0)\n",
            "Requirement already satisfied: opencv-python>=4.6.0 in /usr/local/lib/python3.11/dist-packages (from ultralytics) (4.11.0.86)\n",
            "Requirement already satisfied: pillow>=7.1.2 in /usr/local/lib/python3.11/dist-packages (from ultralytics) (11.1.0)\n",
            "Requirement already satisfied: pyyaml>=5.3.1 in /usr/local/lib/python3.11/dist-packages (from ultralytics) (6.0.2)\n",
            "Requirement already satisfied: requests>=2.23.0 in /usr/local/lib/python3.11/dist-packages (from ultralytics) (2.32.3)\n",
            "Requirement already satisfied: scipy>=1.4.1 in /usr/local/lib/python3.11/dist-packages (from ultralytics) (1.14.1)\n",
            "Requirement already satisfied: torch>=1.8.0 in /usr/local/lib/python3.11/dist-packages (from ultralytics) (2.6.0+cu124)\n",
            "Requirement already satisfied: torchvision>=0.9.0 in /usr/local/lib/python3.11/dist-packages (from ultralytics) (0.21.0+cu124)\n",
            "Requirement already satisfied: tqdm>=4.64.0 in /usr/local/lib/python3.11/dist-packages (from ultralytics) (4.67.1)\n",
            "Requirement already satisfied: psutil in /usr/local/lib/python3.11/dist-packages (from ultralytics) (5.9.5)\n",
            "Requirement already satisfied: py-cpuinfo in /usr/local/lib/python3.11/dist-packages (from ultralytics) (9.0.0)\n",
            "Requirement already satisfied: pandas>=1.1.4 in /usr/local/lib/python3.11/dist-packages (from ultralytics) (2.2.2)\n",
            "Requirement already satisfied: seaborn>=0.11.0 in /usr/local/lib/python3.11/dist-packages (from ultralytics) (0.13.2)\n",
            "Collecting ultralytics-thop>=2.0.0 (from ultralytics)\n",
            "  Downloading ultralytics_thop-2.0.14-py3-none-any.whl.metadata (9.4 kB)\n",
            "Requirement already satisfied: contourpy>=1.0.1 in /usr/local/lib/python3.11/dist-packages (from matplotlib>=3.3.0->ultralytics) (1.3.1)\n",
            "Requirement already satisfied: cycler>=0.10 in /usr/local/lib/python3.11/dist-packages (from matplotlib>=3.3.0->ultralytics) (0.12.1)\n",
            "Requirement already satisfied: fonttools>=4.22.0 in /usr/local/lib/python3.11/dist-packages (from matplotlib>=3.3.0->ultralytics) (4.56.0)\n",
            "Requirement already satisfied: kiwisolver>=1.3.1 in /usr/local/lib/python3.11/dist-packages (from matplotlib>=3.3.0->ultralytics) (1.4.8)\n",
            "Requirement already satisfied: packaging>=20.0 in /usr/local/lib/python3.11/dist-packages (from matplotlib>=3.3.0->ultralytics) (24.2)\n",
            "Requirement already satisfied: pyparsing>=2.3.1 in /usr/local/lib/python3.11/dist-packages (from matplotlib>=3.3.0->ultralytics) (3.2.1)\n",
            "Requirement already satisfied: python-dateutil>=2.7 in /usr/local/lib/python3.11/dist-packages (from matplotlib>=3.3.0->ultralytics) (2.8.2)\n",
            "Requirement already satisfied: pytz>=2020.1 in /usr/local/lib/python3.11/dist-packages (from pandas>=1.1.4->ultralytics) (2025.1)\n",
            "Requirement already satisfied: tzdata>=2022.7 in /usr/local/lib/python3.11/dist-packages (from pandas>=1.1.4->ultralytics) (2025.1)\n",
            "Requirement already satisfied: charset-normalizer<4,>=2 in /usr/local/lib/python3.11/dist-packages (from requests>=2.23.0->ultralytics) (3.4.1)\n",
            "Requirement already satisfied: idna<4,>=2.5 in /usr/local/lib/python3.11/dist-packages (from requests>=2.23.0->ultralytics) (3.10)\n",
            "Requirement already satisfied: urllib3<3,>=1.21.1 in /usr/local/lib/python3.11/dist-packages (from requests>=2.23.0->ultralytics) (2.3.0)\n",
            "Requirement already satisfied: certifi>=2017.4.17 in /usr/local/lib/python3.11/dist-packages (from requests>=2.23.0->ultralytics) (2025.1.31)\n",
            "Requirement already satisfied: filelock in /usr/local/lib/python3.11/dist-packages (from torch>=1.8.0->ultralytics) (3.18.0)\n",
            "Requirement already satisfied: typing-extensions>=4.10.0 in /usr/local/lib/python3.11/dist-packages (from torch>=1.8.0->ultralytics) (4.12.2)\n",
            "Requirement already satisfied: networkx in /usr/local/lib/python3.11/dist-packages (from torch>=1.8.0->ultralytics) (3.4.2)\n",
            "Requirement already satisfied: jinja2 in /usr/local/lib/python3.11/dist-packages (from torch>=1.8.0->ultralytics) (3.1.6)\n",
            "Requirement already satisfied: fsspec in /usr/local/lib/python3.11/dist-packages (from torch>=1.8.0->ultralytics) (2025.3.0)\n",
            "Collecting nvidia-cuda-nvrtc-cu12==12.4.127 (from torch>=1.8.0->ultralytics)\n",
            "  Downloading nvidia_cuda_nvrtc_cu12-12.4.127-py3-none-manylinux2014_x86_64.whl.metadata (1.5 kB)\n",
            "Collecting nvidia-cuda-runtime-cu12==12.4.127 (from torch>=1.8.0->ultralytics)\n",
            "  Downloading nvidia_cuda_runtime_cu12-12.4.127-py3-none-manylinux2014_x86_64.whl.metadata (1.5 kB)\n",
            "Collecting nvidia-cuda-cupti-cu12==12.4.127 (from torch>=1.8.0->ultralytics)\n",
            "  Downloading nvidia_cuda_cupti_cu12-12.4.127-py3-none-manylinux2014_x86_64.whl.metadata (1.6 kB)\n",
            "Collecting nvidia-cudnn-cu12==9.1.0.70 (from torch>=1.8.0->ultralytics)\n",
            "  Downloading nvidia_cudnn_cu12-9.1.0.70-py3-none-manylinux2014_x86_64.whl.metadata (1.6 kB)\n",
            "Collecting nvidia-cublas-cu12==12.4.5.8 (from torch>=1.8.0->ultralytics)\n",
            "  Downloading nvidia_cublas_cu12-12.4.5.8-py3-none-manylinux2014_x86_64.whl.metadata (1.5 kB)\n",
            "Collecting nvidia-cufft-cu12==11.2.1.3 (from torch>=1.8.0->ultralytics)\n",
            "  Downloading nvidia_cufft_cu12-11.2.1.3-py3-none-manylinux2014_x86_64.whl.metadata (1.5 kB)\n",
            "Collecting nvidia-curand-cu12==10.3.5.147 (from torch>=1.8.0->ultralytics)\n",
            "  Downloading nvidia_curand_cu12-10.3.5.147-py3-none-manylinux2014_x86_64.whl.metadata (1.5 kB)\n",
            "Collecting nvidia-cusolver-cu12==11.6.1.9 (from torch>=1.8.0->ultralytics)\n",
            "  Downloading nvidia_cusolver_cu12-11.6.1.9-py3-none-manylinux2014_x86_64.whl.metadata (1.6 kB)\n",
            "Collecting nvidia-cusparse-cu12==12.3.1.170 (from torch>=1.8.0->ultralytics)\n",
            "  Downloading nvidia_cusparse_cu12-12.3.1.170-py3-none-manylinux2014_x86_64.whl.metadata (1.6 kB)\n",
            "Requirement already satisfied: nvidia-cusparselt-cu12==0.6.2 in /usr/local/lib/python3.11/dist-packages (from torch>=1.8.0->ultralytics) (0.6.2)\n",
            "Requirement already satisfied: nvidia-nccl-cu12==2.21.5 in /usr/local/lib/python3.11/dist-packages (from torch>=1.8.0->ultralytics) (2.21.5)\n",
            "Requirement already satisfied: nvidia-nvtx-cu12==12.4.127 in /usr/local/lib/python3.11/dist-packages (from torch>=1.8.0->ultralytics) (12.4.127)\n",
            "Collecting nvidia-nvjitlink-cu12==12.4.127 (from torch>=1.8.0->ultralytics)\n",
            "  Downloading nvidia_nvjitlink_cu12-12.4.127-py3-none-manylinux2014_x86_64.whl.metadata (1.5 kB)\n",
            "Requirement already satisfied: triton==3.2.0 in /usr/local/lib/python3.11/dist-packages (from torch>=1.8.0->ultralytics) (3.2.0)\n",
            "Requirement already satisfied: sympy==1.13.1 in /usr/local/lib/python3.11/dist-packages (from torch>=1.8.0->ultralytics) (1.13.1)\n",
            "Requirement already satisfied: mpmath<1.4,>=1.1.0 in /usr/local/lib/python3.11/dist-packages (from sympy==1.13.1->torch>=1.8.0->ultralytics) (1.3.0)\n",
            "Requirement already satisfied: six>=1.5 in /usr/local/lib/python3.11/dist-packages (from python-dateutil>=2.7->matplotlib>=3.3.0->ultralytics) (1.17.0)\n",
            "Requirement already satisfied: MarkupSafe>=2.0 in /usr/local/lib/python3.11/dist-packages (from jinja2->torch>=1.8.0->ultralytics) (3.0.2)\n",
            "Downloading ultralytics-8.3.96-py3-none-any.whl (949 kB)\n",
            "\u001b[2K   \u001b[90m━━━━━━━━━━━━━━━━━━━━━━━━━━━━━━━━━━━━━━━━\u001b[0m \u001b[32m949.8/949.8 kB\u001b[0m \u001b[31m55.5 MB/s\u001b[0m eta \u001b[36m0:00:00\u001b[0m\n",
            "\u001b[?25hDownloading nvidia_cublas_cu12-12.4.5.8-py3-none-manylinux2014_x86_64.whl (363.4 MB)\n",
            "\u001b[2K   \u001b[90m━━━━━━━━━━━━━━━━━━━━━━━━━━━━━━━━━━━━━━━━\u001b[0m \u001b[32m363.4/363.4 MB\u001b[0m \u001b[31m3.8 MB/s\u001b[0m eta \u001b[36m0:00:00\u001b[0m\n",
            "\u001b[?25hDownloading nvidia_cuda_cupti_cu12-12.4.127-py3-none-manylinux2014_x86_64.whl (13.8 MB)\n",
            "\u001b[2K   \u001b[90m━━━━━━━━━━━━━━━━━━━━━━━━━━━━━━━━━━━━━━━━\u001b[0m \u001b[32m13.8/13.8 MB\u001b[0m \u001b[31m113.8 MB/s\u001b[0m eta \u001b[36m0:00:00\u001b[0m\n",
            "\u001b[?25hDownloading nvidia_cuda_nvrtc_cu12-12.4.127-py3-none-manylinux2014_x86_64.whl (24.6 MB)\n",
            "\u001b[2K   \u001b[90m━━━━━━━━━━━━━━━━━━━━━━━━━━━━━━━━━━━━━━━━\u001b[0m \u001b[32m24.6/24.6 MB\u001b[0m \u001b[31m84.3 MB/s\u001b[0m eta \u001b[36m0:00:00\u001b[0m\n",
            "\u001b[?25hDownloading nvidia_cuda_runtime_cu12-12.4.127-py3-none-manylinux2014_x86_64.whl (883 kB)\n",
            "\u001b[2K   \u001b[90m━━━━━━━━━━━━━━━━━━━━━━━━━━━━━━━━━━━━━━━━\u001b[0m \u001b[32m883.7/883.7 kB\u001b[0m \u001b[31m57.3 MB/s\u001b[0m eta \u001b[36m0:00:00\u001b[0m\n",
            "\u001b[?25hDownloading nvidia_cudnn_cu12-9.1.0.70-py3-none-manylinux2014_x86_64.whl (664.8 MB)\n",
            "\u001b[2K   \u001b[90m━━━━━━━━━━━━━━━━━━━━━━━━━━━━━━━━━━━━━━━━\u001b[0m \u001b[32m664.8/664.8 MB\u001b[0m \u001b[31m1.6 MB/s\u001b[0m eta \u001b[36m0:00:00\u001b[0m\n",
            "\u001b[?25hDownloading nvidia_cufft_cu12-11.2.1.3-py3-none-manylinux2014_x86_64.whl (211.5 MB)\n",
            "\u001b[2K   \u001b[90m━━━━━━━━━━━━━━━━━━━━━━━━━━━━━━━━━━━━━━━━\u001b[0m \u001b[32m211.5/211.5 MB\u001b[0m \u001b[31m5.6 MB/s\u001b[0m eta \u001b[36m0:00:00\u001b[0m\n",
            "\u001b[?25hDownloading nvidia_curand_cu12-10.3.5.147-py3-none-manylinux2014_x86_64.whl (56.3 MB)\n",
            "\u001b[2K   \u001b[90m━━━━━━━━━━━━━━━━━━━━━━━━━━━━━━━━━━━━━━━━\u001b[0m \u001b[32m56.3/56.3 MB\u001b[0m \u001b[31m18.7 MB/s\u001b[0m eta \u001b[36m0:00:00\u001b[0m\n",
            "\u001b[?25hDownloading nvidia_cusolver_cu12-11.6.1.9-py3-none-manylinux2014_x86_64.whl (127.9 MB)\n",
            "\u001b[2K   \u001b[90m━━━━━━━━━━━━━━━━━━━━━━━━━━━━━━━━━━━━━━━━\u001b[0m \u001b[32m127.9/127.9 MB\u001b[0m \u001b[31m8.8 MB/s\u001b[0m eta \u001b[36m0:00:00\u001b[0m\n",
            "\u001b[?25hDownloading nvidia_cusparse_cu12-12.3.1.170-py3-none-manylinux2014_x86_64.whl (207.5 MB)\n",
            "\u001b[2K   \u001b[90m━━━━━━━━━━━━━━━━━━━━━━━━━━━━━━━━━━━━━━━━\u001b[0m \u001b[32m207.5/207.5 MB\u001b[0m \u001b[31m6.0 MB/s\u001b[0m eta \u001b[36m0:00:00\u001b[0m\n",
            "\u001b[?25hDownloading nvidia_nvjitlink_cu12-12.4.127-py3-none-manylinux2014_x86_64.whl (21.1 MB)\n",
            "\u001b[2K   \u001b[90m━━━━━━━━━━━━━━━━━━━━━━━━━━━━━━━━━━━━━━━━\u001b[0m \u001b[32m21.1/21.1 MB\u001b[0m \u001b[31m42.3 MB/s\u001b[0m eta \u001b[36m0:00:00\u001b[0m\n",
            "\u001b[?25hDownloading ultralytics_thop-2.0.14-py3-none-any.whl (26 kB)\n",
            "Installing collected packages: nvidia-nvjitlink-cu12, nvidia-curand-cu12, nvidia-cufft-cu12, nvidia-cuda-runtime-cu12, nvidia-cuda-nvrtc-cu12, nvidia-cuda-cupti-cu12, nvidia-cublas-cu12, nvidia-cusparse-cu12, nvidia-cudnn-cu12, nvidia-cusolver-cu12, ultralytics-thop, ultralytics\n",
            "  Attempting uninstall: nvidia-nvjitlink-cu12\n",
            "    Found existing installation: nvidia-nvjitlink-cu12 12.5.82\n",
            "    Uninstalling nvidia-nvjitlink-cu12-12.5.82:\n",
            "      Successfully uninstalled nvidia-nvjitlink-cu12-12.5.82\n",
            "  Attempting uninstall: nvidia-curand-cu12\n",
            "    Found existing installation: nvidia-curand-cu12 10.3.6.82\n",
            "    Uninstalling nvidia-curand-cu12-10.3.6.82:\n",
            "      Successfully uninstalled nvidia-curand-cu12-10.3.6.82\n",
            "  Attempting uninstall: nvidia-cufft-cu12\n",
            "    Found existing installation: nvidia-cufft-cu12 11.2.3.61\n",
            "    Uninstalling nvidia-cufft-cu12-11.2.3.61:\n",
            "      Successfully uninstalled nvidia-cufft-cu12-11.2.3.61\n",
            "  Attempting uninstall: nvidia-cuda-runtime-cu12\n",
            "    Found existing installation: nvidia-cuda-runtime-cu12 12.5.82\n",
            "    Uninstalling nvidia-cuda-runtime-cu12-12.5.82:\n",
            "      Successfully uninstalled nvidia-cuda-runtime-cu12-12.5.82\n",
            "  Attempting uninstall: nvidia-cuda-nvrtc-cu12\n",
            "    Found existing installation: nvidia-cuda-nvrtc-cu12 12.5.82\n",
            "    Uninstalling nvidia-cuda-nvrtc-cu12-12.5.82:\n",
            "      Successfully uninstalled nvidia-cuda-nvrtc-cu12-12.5.82\n",
            "  Attempting uninstall: nvidia-cuda-cupti-cu12\n",
            "    Found existing installation: nvidia-cuda-cupti-cu12 12.5.82\n",
            "    Uninstalling nvidia-cuda-cupti-cu12-12.5.82:\n",
            "      Successfully uninstalled nvidia-cuda-cupti-cu12-12.5.82\n",
            "  Attempting uninstall: nvidia-cublas-cu12\n",
            "    Found existing installation: nvidia-cublas-cu12 12.5.3.2\n",
            "    Uninstalling nvidia-cublas-cu12-12.5.3.2:\n",
            "      Successfully uninstalled nvidia-cublas-cu12-12.5.3.2\n",
            "  Attempting uninstall: nvidia-cusparse-cu12\n",
            "    Found existing installation: nvidia-cusparse-cu12 12.5.1.3\n",
            "    Uninstalling nvidia-cusparse-cu12-12.5.1.3:\n",
            "      Successfully uninstalled nvidia-cusparse-cu12-12.5.1.3\n",
            "  Attempting uninstall: nvidia-cudnn-cu12\n",
            "    Found existing installation: nvidia-cudnn-cu12 9.3.0.75\n",
            "    Uninstalling nvidia-cudnn-cu12-9.3.0.75:\n",
            "      Successfully uninstalled nvidia-cudnn-cu12-9.3.0.75\n",
            "  Attempting uninstall: nvidia-cusolver-cu12\n",
            "    Found existing installation: nvidia-cusolver-cu12 11.6.3.83\n",
            "    Uninstalling nvidia-cusolver-cu12-11.6.3.83:\n",
            "      Successfully uninstalled nvidia-cusolver-cu12-11.6.3.83\n",
            "Successfully installed nvidia-cublas-cu12-12.4.5.8 nvidia-cuda-cupti-cu12-12.4.127 nvidia-cuda-nvrtc-cu12-12.4.127 nvidia-cuda-runtime-cu12-12.4.127 nvidia-cudnn-cu12-9.1.0.70 nvidia-cufft-cu12-11.2.1.3 nvidia-curand-cu12-10.3.5.147 nvidia-cusolver-cu12-11.6.1.9 nvidia-cusparse-cu12-12.3.1.170 nvidia-nvjitlink-cu12-12.4.127 ultralytics-8.3.96 ultralytics-thop-2.0.14\n"
          ]
        }
      ]
    },
    {
      "cell_type": "code",
      "source": [
        "from ultralytics import YOLO\n",
        "from IPython.display import display, Image"
      ],
      "metadata": {
        "colab": {
          "base_uri": "https://localhost:8080/"
        },
        "id": "yJWZfcF5P-6d",
        "outputId": "e7587472-a40f-4b6c-a9b5-590aefeb8f26"
      },
      "execution_count": 5,
      "outputs": [
        {
          "output_type": "stream",
          "name": "stdout",
          "text": [
            "Creating new Ultralytics Settings v0.0.6 file ✅ \n",
            "View Ultralytics Settings with 'yolo settings' or at '/root/.config/Ultralytics/settings.json'\n",
            "Update Settings with 'yolo settings key=value', i.e. 'yolo settings runs_dir=path/to/dir'. For help see https://docs.ultralytics.com/quickstart/#ultralytics-settings.\n"
          ]
        }
      ]
    },
    {
      "cell_type": "code",
      "source": [
        "\n",
        "!yolo task=detect mode=train model=yolov8s.pt data=/content/drive/MyDrive/dataset-3250/data.yaml epochs=50 imgsz=640 batch=16 workers=4 device=0 lr0=0.01 optimizer=AdamW augment=True plots=True\n"
      ],
      "metadata": {
        "colab": {
          "base_uri": "https://localhost:8080/"
        },
        "id": "E-rYuCK3QtcD",
        "outputId": "914bdc94-9107-4459-9b31-0940ac82d551"
      },
      "execution_count": 7,
      "outputs": [
        {
          "output_type": "stream",
          "name": "stdout",
          "text": [
            "Ultralytics 8.3.96 🚀 Python-3.11.11 torch-2.6.0+cu124 CUDA:0 (Tesla T4, 15095MiB)\n",
            "\u001b[34m\u001b[1mengine/trainer: \u001b[0mtask=detect, mode=train, model=yolov8s.pt, data=/content/drive/MyDrive/dataset-3250/data.yaml, epochs=50, time=None, patience=100, batch=16, imgsz=640, save=True, save_period=-1, cache=False, device=0, workers=4, project=None, name=train2, exist_ok=False, pretrained=True, optimizer=AdamW, verbose=True, seed=0, deterministic=True, single_cls=False, rect=False, cos_lr=False, close_mosaic=10, resume=False, amp=True, fraction=1.0, profile=False, freeze=None, multi_scale=False, overlap_mask=True, mask_ratio=4, dropout=0.0, val=True, split=val, save_json=False, save_hybrid=False, conf=None, iou=0.7, max_det=300, half=False, dnn=False, plots=True, source=None, vid_stride=1, stream_buffer=False, visualize=False, augment=True, agnostic_nms=False, classes=None, retina_masks=False, embed=None, show=False, save_frames=False, save_txt=False, save_conf=False, save_crop=False, show_labels=True, show_conf=True, show_boxes=True, line_width=None, format=torchscript, keras=False, optimize=False, int8=False, dynamic=False, simplify=True, opset=None, workspace=None, nms=False, lr0=0.01, lrf=0.01, momentum=0.937, weight_decay=0.0005, warmup_epochs=3.0, warmup_momentum=0.8, warmup_bias_lr=0.1, box=7.5, cls=0.5, dfl=1.5, pose=12.0, kobj=1.0, nbs=64, hsv_h=0.015, hsv_s=0.7, hsv_v=0.4, degrees=0.0, translate=0.1, scale=0.5, shear=0.0, perspective=0.0, flipud=0.0, fliplr=0.5, bgr=0.0, mosaic=1.0, mixup=0.0, copy_paste=0.0, copy_paste_mode=flip, auto_augment=randaugment, erasing=0.4, crop_fraction=1.0, cfg=None, tracker=botsort.yaml, save_dir=runs/detect/train2\n",
            "Downloading https://ultralytics.com/assets/Arial.ttf to '/root/.config/Ultralytics/Arial.ttf'...\n",
            "100% 755k/755k [00:00<00:00, 101MB/s]\n",
            "WARNING: All log messages before absl::InitializeLog() is called are written to STDERR\n",
            "E0000 00:00:1742922660.351532    4827 cuda_dnn.cc:8310] Unable to register cuDNN factory: Attempting to register factory for plugin cuDNN when one has already been registered\n",
            "E0000 00:00:1742922660.412204    4827 cuda_blas.cc:1418] Unable to register cuBLAS factory: Attempting to register factory for plugin cuBLAS when one has already been registered\n",
            "Overriding model.yaml nc=80 with nc=1\n",
            "\n",
            "                   from  n    params  module                                       arguments                     \n",
            "  0                  -1  1       928  ultralytics.nn.modules.conv.Conv             [3, 32, 3, 2]                 \n",
            "  1                  -1  1     18560  ultralytics.nn.modules.conv.Conv             [32, 64, 3, 2]                \n",
            "  2                  -1  1     29056  ultralytics.nn.modules.block.C2f             [64, 64, 1, True]             \n",
            "  3                  -1  1     73984  ultralytics.nn.modules.conv.Conv             [64, 128, 3, 2]               \n",
            "  4                  -1  2    197632  ultralytics.nn.modules.block.C2f             [128, 128, 2, True]           \n",
            "  5                  -1  1    295424  ultralytics.nn.modules.conv.Conv             [128, 256, 3, 2]              \n",
            "  6                  -1  2    788480  ultralytics.nn.modules.block.C2f             [256, 256, 2, True]           \n",
            "  7                  -1  1   1180672  ultralytics.nn.modules.conv.Conv             [256, 512, 3, 2]              \n",
            "  8                  -1  1   1838080  ultralytics.nn.modules.block.C2f             [512, 512, 1, True]           \n",
            "  9                  -1  1    656896  ultralytics.nn.modules.block.SPPF            [512, 512, 5]                 \n",
            " 10                  -1  1         0  torch.nn.modules.upsampling.Upsample         [None, 2, 'nearest']          \n",
            " 11             [-1, 6]  1         0  ultralytics.nn.modules.conv.Concat           [1]                           \n",
            " 12                  -1  1    591360  ultralytics.nn.modules.block.C2f             [768, 256, 1]                 \n",
            " 13                  -1  1         0  torch.nn.modules.upsampling.Upsample         [None, 2, 'nearest']          \n",
            " 14             [-1, 4]  1         0  ultralytics.nn.modules.conv.Concat           [1]                           \n",
            " 15                  -1  1    148224  ultralytics.nn.modules.block.C2f             [384, 128, 1]                 \n",
            " 16                  -1  1    147712  ultralytics.nn.modules.conv.Conv             [128, 128, 3, 2]              \n",
            " 17            [-1, 12]  1         0  ultralytics.nn.modules.conv.Concat           [1]                           \n",
            " 18                  -1  1    493056  ultralytics.nn.modules.block.C2f             [384, 256, 1]                 \n",
            " 19                  -1  1    590336  ultralytics.nn.modules.conv.Conv             [256, 256, 3, 2]              \n",
            " 20             [-1, 9]  1         0  ultralytics.nn.modules.conv.Concat           [1]                           \n",
            " 21                  -1  1   1969152  ultralytics.nn.modules.block.C2f             [768, 512, 1]                 \n",
            " 22        [15, 18, 21]  1   2116435  ultralytics.nn.modules.head.Detect           [1, [128, 256, 512]]          \n",
            "Model summary: 129 layers, 11,135,987 parameters, 11,135,971 gradients, 28.6 GFLOPs\n",
            "\n",
            "Transferred 349/355 items from pretrained weights\n",
            "\u001b[34m\u001b[1mTensorBoard: \u001b[0mStart with 'tensorboard --logdir runs/detect/train2', view at http://localhost:6006/\n",
            "Freezing layer 'model.22.dfl.conv.weight'\n",
            "\u001b[34m\u001b[1mAMP: \u001b[0mrunning Automatic Mixed Precision (AMP) checks...\n",
            "Downloading https://github.com/ultralytics/assets/releases/download/v8.3.0/yolo11n.pt to 'yolo11n.pt'...\n",
            "100% 5.35M/5.35M [00:00<00:00, 142MB/s]\n",
            "\u001b[34m\u001b[1mAMP: \u001b[0mchecks passed ✅\n",
            "\u001b[34m\u001b[1mtrain: \u001b[0mScanning /content/drive/MyDrive/dataset-3250/train/labels... 2517 images, 1224 backgrounds, 0 corrupt: 100% 2545/2545 [17:29<00:00,  2.43it/s]\n",
            "\u001b[34m\u001b[1mtrain: \u001b[0mNew cache created: /content/drive/MyDrive/dataset-3250/train/labels.cache\n",
            "\u001b[34m\u001b[1malbumentations: \u001b[0mBlur(p=0.01, blur_limit=(3, 7)), MedianBlur(p=0.01, blur_limit=(3, 7)), ToGray(p=0.01, num_output_channels=3, method='weighted_average'), CLAHE(p=0.01, clip_limit=(1.0, 4.0), tile_grid_size=(8, 8))\n",
            "\u001b[34m\u001b[1mval: \u001b[0mScanning /content/drive/MyDrive/dataset-3250/valid/labels... 371 images, 127 backgrounds, 0 corrupt: 100% 371/371 [02:48<00:00,  2.21it/s]\n",
            "\u001b[34m\u001b[1mval: \u001b[0mNew cache created: /content/drive/MyDrive/dataset-3250/valid/labels.cache\n",
            "Plotting labels to runs/detect/train2/labels.jpg... \n",
            "\u001b[34m\u001b[1moptimizer:\u001b[0m AdamW(lr=0.01, momentum=0.937) with parameter groups 57 weight(decay=0.0), 64 weight(decay=0.0005), 63 bias(decay=0.0)\n",
            "\u001b[34m\u001b[1mTensorBoard: \u001b[0mmodel graph visualization added ✅\n",
            "Image sizes 640 train, 640 val\n",
            "Using 2 dataloader workers\n",
            "Logging results to \u001b[1mruns/detect/train2\u001b[0m\n",
            "Starting training for 50 epochs...\n",
            "\n",
            "      Epoch    GPU_mem   box_loss   cls_loss   dfl_loss  Instances       Size\n",
            "       1/50      3.84G       2.41      3.867      2.614          2        640: 100% 160/160 [01:06<00:00,  2.41it/s]\n",
            "                 Class     Images  Instances      Box(P          R      mAP50  mAP50-95): 100% 12/12 [00:06<00:00,  1.99it/s]\n",
            "                   all        371        288   8.98e-06    0.00347   4.52e-06   9.04e-07\n",
            "\n",
            "      Epoch    GPU_mem   box_loss   cls_loss   dfl_loss  Instances       Size\n",
            "       2/50      4.64G      2.403      3.175      2.555          1        640: 100% 160/160 [01:03<00:00,  2.53it/s]\n",
            "                 Class     Images  Instances      Box(P          R      mAP50  mAP50-95): 100% 12/12 [00:04<00:00,  2.49it/s]\n",
            "                   all        371        288      0.138     0.0799     0.0376     0.0136\n",
            "\n",
            "      Epoch    GPU_mem   box_loss   cls_loss   dfl_loss  Instances       Size\n",
            "       3/50      4.66G       2.35      3.085      2.511          3        640: 100% 160/160 [01:01<00:00,  2.59it/s]\n",
            "                 Class     Images  Instances      Box(P          R      mAP50  mAP50-95): 100% 12/12 [00:05<00:00,  2.14it/s]\n",
            "                   all        371        288     0.0184     0.0729    0.00723    0.00199\n",
            "\n",
            "      Epoch    GPU_mem   box_loss   cls_loss   dfl_loss  Instances       Size\n",
            "       4/50       4.7G      2.288      2.921      2.439          2        640: 100% 160/160 [01:00<00:00,  2.63it/s]\n",
            "                 Class     Images  Instances      Box(P          R      mAP50  mAP50-95): 100% 12/12 [00:06<00:00,  1.97it/s]\n",
            "                   all        371        288      0.297      0.188      0.174     0.0572\n",
            "\n",
            "      Epoch    GPU_mem   box_loss   cls_loss   dfl_loss  Instances       Size\n",
            "       5/50      4.73G      2.179       2.75      2.341          2        640: 100% 160/160 [01:01<00:00,  2.62it/s]\n",
            "                 Class     Images  Instances      Box(P          R      mAP50  mAP50-95): 100% 12/12 [00:05<00:00,  2.15it/s]\n",
            "                   all        371        288      0.321      0.181      0.157     0.0385\n",
            "\n",
            "      Epoch    GPU_mem   box_loss   cls_loss   dfl_loss  Instances       Size\n",
            "       6/50      4.77G      2.138      2.611      2.274          3        640: 100% 160/160 [01:00<00:00,  2.64it/s]\n",
            "                 Class     Images  Instances      Box(P          R      mAP50  mAP50-95): 100% 12/12 [00:04<00:00,  2.63it/s]\n",
            "                   all        371        288      0.548      0.226      0.252     0.0814\n",
            "\n",
            "      Epoch    GPU_mem   box_loss   cls_loss   dfl_loss  Instances       Size\n",
            "       7/50      4.81G       2.07      2.537      2.221          0        640: 100% 160/160 [01:02<00:00,  2.56it/s]\n",
            "                 Class     Images  Instances      Box(P          R      mAP50  mAP50-95): 100% 12/12 [00:04<00:00,  2.56it/s]\n",
            "                   all        371        288      0.188      0.219       0.14     0.0422\n",
            "\n",
            "      Epoch    GPU_mem   box_loss   cls_loss   dfl_loss  Instances       Size\n",
            "       8/50      4.84G      2.062       2.52      2.206          1        640: 100% 160/160 [01:02<00:00,  2.58it/s]\n",
            "                 Class     Images  Instances      Box(P          R      mAP50  mAP50-95): 100% 12/12 [00:04<00:00,  2.53it/s]\n",
            "                   all        371        288      0.458      0.299      0.341      0.124\n",
            "\n",
            "      Epoch    GPU_mem   box_loss   cls_loss   dfl_loss  Instances       Size\n",
            "       9/50      4.88G      2.024      2.439      2.201          1        640: 100% 160/160 [01:02<00:00,  2.58it/s]\n",
            "                 Class     Images  Instances      Box(P          R      mAP50  mAP50-95): 100% 12/12 [00:04<00:00,  2.51it/s]\n",
            "                   all        371        288      0.136      0.235      0.116     0.0326\n",
            "\n",
            "      Epoch    GPU_mem   box_loss   cls_loss   dfl_loss  Instances       Size\n",
            "      10/50      4.92G      2.008      2.435      2.158          0        640: 100% 160/160 [01:00<00:00,  2.66it/s]\n",
            "                 Class     Images  Instances      Box(P          R      mAP50  mAP50-95): 100% 12/12 [00:06<00:00,  1.96it/s]\n",
            "                   all        371        288      0.271       0.26      0.225     0.0531\n",
            "\n",
            "      Epoch    GPU_mem   box_loss   cls_loss   dfl_loss  Instances       Size\n",
            "      11/50      4.95G      1.994      2.338      2.143          0        640: 100% 160/160 [00:59<00:00,  2.68it/s]\n",
            "                 Class     Images  Instances      Box(P          R      mAP50  mAP50-95): 100% 12/12 [00:04<00:00,  2.41it/s]\n",
            "                   all        371        288      0.521      0.339       0.37      0.138\n",
            "\n",
            "      Epoch    GPU_mem   box_loss   cls_loss   dfl_loss  Instances       Size\n",
            "      12/50      4.99G      1.958      2.329      2.128          0        640: 100% 160/160 [01:00<00:00,  2.63it/s]\n",
            "                 Class     Images  Instances      Box(P          R      mAP50  mAP50-95): 100% 12/12 [00:04<00:00,  2.42it/s]\n",
            "                   all        371        288      0.603      0.267      0.311      0.115\n",
            "\n",
            "      Epoch    GPU_mem   box_loss   cls_loss   dfl_loss  Instances       Size\n",
            "      13/50      5.02G      1.917      2.243      2.093          2        640: 100% 160/160 [01:03<00:00,  2.53it/s]\n",
            "                 Class     Images  Instances      Box(P          R      mAP50  mAP50-95): 100% 12/12 [00:04<00:00,  2.64it/s]\n",
            "                   all        371        288      0.255      0.219      0.177      0.058\n",
            "\n",
            "      Epoch    GPU_mem   box_loss   cls_loss   dfl_loss  Instances       Size\n",
            "      14/50      5.06G      1.934       2.27      2.102          0        640: 100% 160/160 [01:02<00:00,  2.56it/s]\n",
            "                 Class     Images  Instances      Box(P          R      mAP50  mAP50-95): 100% 12/12 [00:04<00:00,  2.61it/s]\n",
            "                   all        371        288      0.402      0.392      0.346      0.125\n",
            "\n",
            "      Epoch    GPU_mem   box_loss   cls_loss   dfl_loss  Instances       Size\n",
            "      15/50       5.1G      1.947      2.255      2.096          3        640: 100% 160/160 [01:02<00:00,  2.55it/s]\n",
            "                 Class     Images  Instances      Box(P          R      mAP50  mAP50-95): 100% 12/12 [00:04<00:00,  2.66it/s]\n",
            "                   all        371        288      0.542      0.431      0.465      0.175\n",
            "\n",
            "      Epoch    GPU_mem   box_loss   cls_loss   dfl_loss  Instances       Size\n",
            "      16/50      5.13G      1.904      2.158      2.065          1        640: 100% 160/160 [01:02<00:00,  2.56it/s]\n",
            "                 Class     Images  Instances      Box(P          R      mAP50  mAP50-95): 100% 12/12 [00:04<00:00,  2.45it/s]\n",
            "                   all        371        288      0.552      0.343      0.425      0.163\n",
            "\n",
            "      Epoch    GPU_mem   box_loss   cls_loss   dfl_loss  Instances       Size\n",
            "      17/50      5.17G      1.879      2.188      2.051          0        640: 100% 160/160 [01:02<00:00,  2.57it/s]\n",
            "                 Class     Images  Instances      Box(P          R      mAP50  mAP50-95): 100% 12/12 [00:05<00:00,  2.17it/s]\n",
            "                   all        371        288      0.373      0.316      0.311      0.102\n",
            "\n",
            "      Epoch    GPU_mem   box_loss   cls_loss   dfl_loss  Instances       Size\n",
            "      18/50      5.21G      1.917      2.093      2.062          2        640: 100% 160/160 [01:01<00:00,  2.61it/s]\n",
            "                 Class     Images  Instances      Box(P          R      mAP50  mAP50-95): 100% 12/12 [00:05<00:00,  2.02it/s]\n",
            "                   all        371        288      0.498      0.351      0.343      0.123\n",
            "\n",
            "      Epoch    GPU_mem   box_loss   cls_loss   dfl_loss  Instances       Size\n",
            "      19/50      5.24G      1.838       2.09      2.032          0        640: 100% 160/160 [01:00<00:00,  2.63it/s]\n",
            "                 Class     Images  Instances      Box(P          R      mAP50  mAP50-95): 100% 12/12 [00:05<00:00,  2.08it/s]\n",
            "                   all        371        288      0.423      0.434      0.405      0.144\n",
            "\n",
            "      Epoch    GPU_mem   box_loss   cls_loss   dfl_loss  Instances       Size\n",
            "      20/50      5.28G      1.865      2.055      2.026          1        640: 100% 160/160 [01:01<00:00,  2.59it/s]\n",
            "                 Class     Images  Instances      Box(P          R      mAP50  mAP50-95): 100% 12/12 [00:06<00:00,  1.91it/s]\n",
            "                   all        371        288      0.525      0.295      0.308      0.111\n",
            "\n",
            "      Epoch    GPU_mem   box_loss   cls_loss   dfl_loss  Instances       Size\n",
            "      21/50      5.31G      1.831      1.986      1.989          2        640: 100% 160/160 [01:01<00:00,  2.59it/s]\n",
            "                 Class     Images  Instances      Box(P          R      mAP50  mAP50-95): 100% 12/12 [00:06<00:00,  2.00it/s]\n",
            "                   all        371        288      0.523      0.465      0.458      0.182\n",
            "\n",
            "      Epoch    GPU_mem   box_loss   cls_loss   dfl_loss  Instances       Size\n",
            "      22/50      5.35G      1.825      1.898      1.974          1        640: 100% 160/160 [01:02<00:00,  2.57it/s]\n",
            "                 Class     Images  Instances      Box(P          R      mAP50  mAP50-95): 100% 12/12 [00:06<00:00,  1.97it/s]\n",
            "                   all        371        288      0.597      0.385      0.394      0.157\n",
            "\n",
            "      Epoch    GPU_mem   box_loss   cls_loss   dfl_loss  Instances       Size\n",
            "      23/50      5.39G      1.791       1.94      1.963          1        640: 100% 160/160 [01:02<00:00,  2.55it/s]\n",
            "                 Class     Images  Instances      Box(P          R      mAP50  mAP50-95): 100% 12/12 [00:05<00:00,  2.02it/s]\n",
            "                   all        371        288       0.57      0.438      0.471      0.179\n",
            "\n",
            "      Epoch    GPU_mem   box_loss   cls_loss   dfl_loss  Instances       Size\n",
            "      24/50      5.42G      1.808      1.895      1.972          0        640: 100% 160/160 [01:02<00:00,  2.58it/s]\n",
            "                 Class     Images  Instances      Box(P          R      mAP50  mAP50-95): 100% 12/12 [00:05<00:00,  2.06it/s]\n",
            "                   all        371        288      0.472      0.378       0.41      0.147\n",
            "\n",
            "      Epoch    GPU_mem   box_loss   cls_loss   dfl_loss  Instances       Size\n",
            "      25/50      5.46G       1.79      1.902      1.939          0        640: 100% 160/160 [01:02<00:00,  2.58it/s]\n",
            "                 Class     Images  Instances      Box(P          R      mAP50  mAP50-95): 100% 12/12 [00:05<00:00,  2.01it/s]\n",
            "                   all        371        288      0.513      0.542      0.554      0.228\n",
            "\n",
            "      Epoch    GPU_mem   box_loss   cls_loss   dfl_loss  Instances       Size\n",
            "      26/50       5.5G      1.779      1.831      1.939          0        640: 100% 160/160 [01:01<00:00,  2.58it/s]\n",
            "                 Class     Images  Instances      Box(P          R      mAP50  mAP50-95): 100% 12/12 [00:06<00:00,  2.00it/s]\n",
            "                   all        371        288      0.698      0.392      0.528      0.212\n",
            "\n",
            "      Epoch    GPU_mem   box_loss   cls_loss   dfl_loss  Instances       Size\n",
            "      27/50      5.53G      1.746      1.809       1.93          1        640: 100% 160/160 [01:01<00:00,  2.59it/s]\n",
            "                 Class     Images  Instances      Box(P          R      mAP50  mAP50-95): 100% 12/12 [00:05<00:00,  2.03it/s]\n",
            "                   all        371        288      0.603      0.476      0.534       0.21\n",
            "\n",
            "      Epoch    GPU_mem   box_loss   cls_loss   dfl_loss  Instances       Size\n",
            "      28/50      5.57G      1.783       1.79      1.928          0        640: 100% 160/160 [01:02<00:00,  2.58it/s]\n",
            "                 Class     Images  Instances      Box(P          R      mAP50  mAP50-95): 100% 12/12 [00:05<00:00,  2.05it/s]\n",
            "                   all        371        288      0.661       0.51       0.58      0.216\n",
            "\n",
            "      Epoch    GPU_mem   box_loss   cls_loss   dfl_loss  Instances       Size\n",
            "      29/50       5.6G      1.772      1.781      1.924          0        640: 100% 160/160 [01:02<00:00,  2.56it/s]\n",
            "                 Class     Images  Instances      Box(P          R      mAP50  mAP50-95): 100% 12/12 [00:06<00:00,  1.99it/s]\n",
            "                   all        371        288      0.574       0.49      0.535      0.209\n",
            "\n",
            "      Epoch    GPU_mem   box_loss   cls_loss   dfl_loss  Instances       Size\n",
            "      30/50      5.64G      1.756      1.755      1.909          1        640: 100% 160/160 [01:01<00:00,  2.61it/s]\n",
            "                 Class     Images  Instances      Box(P          R      mAP50  mAP50-95): 100% 12/12 [00:06<00:00,  2.00it/s]\n",
            "                   all        371        288      0.592      0.576       0.57      0.224\n",
            "\n",
            "      Epoch    GPU_mem   box_loss   cls_loss   dfl_loss  Instances       Size\n",
            "      31/50      5.68G      1.765       1.71      1.909          2        640: 100% 160/160 [01:02<00:00,  2.58it/s]\n",
            "                 Class     Images  Instances      Box(P          R      mAP50  mAP50-95): 100% 12/12 [00:05<00:00,  2.27it/s]\n",
            "                   all        371        288       0.73      0.507      0.604      0.267\n",
            "\n",
            "      Epoch    GPU_mem   box_loss   cls_loss   dfl_loss  Instances       Size\n",
            "      32/50      5.71G      1.724      1.703       1.88          0        640: 100% 160/160 [01:01<00:00,  2.60it/s]\n",
            "                 Class     Images  Instances      Box(P          R      mAP50  mAP50-95): 100% 12/12 [00:06<00:00,  1.99it/s]\n",
            "                   all        371        288      0.746       0.58       0.64      0.278\n",
            "\n",
            "      Epoch    GPU_mem   box_loss   cls_loss   dfl_loss  Instances       Size\n",
            "      33/50      5.75G      1.723      1.668      1.868          2        640: 100% 160/160 [01:01<00:00,  2.60it/s]\n",
            "                 Class     Images  Instances      Box(P          R      mAP50  mAP50-95): 100% 12/12 [00:04<00:00,  2.51it/s]\n",
            "                   all        371        288      0.579      0.563      0.574      0.223\n",
            "\n",
            "      Epoch    GPU_mem   box_loss   cls_loss   dfl_loss  Instances       Size\n",
            "      34/50      5.79G      1.738      1.668      1.878          1        640: 100% 160/160 [01:00<00:00,  2.64it/s]\n",
            "                 Class     Images  Instances      Box(P          R      mAP50  mAP50-95): 100% 12/12 [00:04<00:00,  2.55it/s]\n",
            "                   all        371        288      0.684      0.548      0.617      0.265\n",
            "\n",
            "      Epoch    GPU_mem   box_loss   cls_loss   dfl_loss  Instances       Size\n",
            "      35/50      5.82G      1.688      1.608      1.843          0        640: 100% 160/160 [01:02<00:00,  2.57it/s]\n",
            "                 Class     Images  Instances      Box(P          R      mAP50  mAP50-95): 100% 12/12 [00:04<00:00,  2.69it/s]\n",
            "                   all        371        288      0.626      0.576      0.624      0.268\n",
            "\n",
            "      Epoch    GPU_mem   box_loss   cls_loss   dfl_loss  Instances       Size\n",
            "      36/50      5.86G      1.673      1.576      1.834          1        640: 100% 160/160 [01:02<00:00,  2.57it/s]\n",
            "                 Class     Images  Instances      Box(P          R      mAP50  mAP50-95): 100% 12/12 [00:04<00:00,  2.57it/s]\n",
            "                   all        371        288      0.725       0.53      0.596      0.257\n",
            "\n",
            "      Epoch    GPU_mem   box_loss   cls_loss   dfl_loss  Instances       Size\n",
            "      37/50      5.89G      1.686       1.55      1.834          0        640: 100% 160/160 [01:01<00:00,  2.60it/s]\n",
            "                 Class     Images  Instances      Box(P          R      mAP50  mAP50-95): 100% 12/12 [00:04<00:00,  2.57it/s]\n",
            "                   all        371        288      0.782      0.587       0.67      0.284\n",
            "\n",
            "      Epoch    GPU_mem   box_loss   cls_loss   dfl_loss  Instances       Size\n",
            "      38/50      5.93G      1.667      1.536      1.836          0        640: 100% 160/160 [01:03<00:00,  2.53it/s]\n",
            "                 Class     Images  Instances      Box(P          R      mAP50  mAP50-95): 100% 12/12 [00:04<00:00,  2.64it/s]\n",
            "                   all        371        288      0.677      0.587      0.614      0.244\n",
            "\n",
            "      Epoch    GPU_mem   box_loss   cls_loss   dfl_loss  Instances       Size\n",
            "      39/50      5.97G      1.666      1.534      1.824          1        640: 100% 160/160 [01:00<00:00,  2.62it/s]\n",
            "                 Class     Images  Instances      Box(P          R      mAP50  mAP50-95): 100% 12/12 [00:05<00:00,  2.34it/s]\n",
            "                   all        371        288      0.728      0.625      0.667      0.285\n",
            "\n",
            "      Epoch    GPU_mem   box_loss   cls_loss   dfl_loss  Instances       Size\n",
            "      40/50      6.04G      1.672      1.553      1.821          1        640: 100% 160/160 [01:02<00:00,  2.56it/s]\n",
            "                 Class     Images  Instances      Box(P          R      mAP50  mAP50-95): 100% 12/12 [00:05<00:00,  2.18it/s]\n",
            "                   all        371        288      0.762      0.618      0.657      0.277\n",
            "Closing dataloader mosaic\n",
            "\u001b[34m\u001b[1malbumentations: \u001b[0mBlur(p=0.01, blur_limit=(3, 7)), MedianBlur(p=0.01, blur_limit=(3, 7)), ToGray(p=0.01, num_output_channels=3, method='weighted_average'), CLAHE(p=0.01, clip_limit=(1.0, 4.0), tile_grid_size=(8, 8))\n",
            "\n",
            "      Epoch    GPU_mem   box_loss   cls_loss   dfl_loss  Instances       Size\n",
            "      41/50      6.11G      1.702      1.338      1.946          1        640: 100% 160/160 [00:59<00:00,  2.68it/s]\n",
            "                 Class     Images  Instances      Box(P          R      mAP50  mAP50-95): 100% 12/12 [00:05<00:00,  2.01it/s]\n",
            "                   all        371        288      0.748      0.656      0.672      0.294\n",
            "\n",
            "      Epoch    GPU_mem   box_loss   cls_loss   dfl_loss  Instances       Size\n",
            "      42/50      6.18G      1.657      1.226      1.928          2        640: 100% 160/160 [00:58<00:00,  2.75it/s]\n",
            "                 Class     Images  Instances      Box(P          R      mAP50  mAP50-95): 100% 12/12 [00:04<00:00,  2.65it/s]\n",
            "                   all        371        288      0.768      0.628      0.709       0.31\n",
            "\n",
            "      Epoch    GPU_mem   box_loss   cls_loss   dfl_loss  Instances       Size\n",
            "      43/50      6.25G      1.646      1.179      1.895          0        640: 100% 160/160 [00:59<00:00,  2.71it/s]\n",
            "                 Class     Images  Instances      Box(P          R      mAP50  mAP50-95): 100% 12/12 [00:04<00:00,  2.65it/s]\n",
            "                   all        371        288      0.802      0.667      0.713      0.315\n",
            "\n",
            "      Epoch    GPU_mem   box_loss   cls_loss   dfl_loss  Instances       Size\n",
            "      44/50      6.32G      1.634      1.142      1.892          0        640: 100% 160/160 [00:57<00:00,  2.77it/s]\n",
            "                 Class     Images  Instances      Box(P          R      mAP50  mAP50-95): 100% 12/12 [00:05<00:00,  2.07it/s]\n",
            "                   all        371        288      0.792      0.667      0.725      0.317\n",
            "\n",
            "      Epoch    GPU_mem   box_loss   cls_loss   dfl_loss  Instances       Size\n",
            "      45/50      6.38G      1.651      1.129      1.918          1        640: 100% 160/160 [00:58<00:00,  2.75it/s]\n",
            "                 Class     Images  Instances      Box(P          R      mAP50  mAP50-95): 100% 12/12 [00:04<00:00,  2.63it/s]\n",
            "                   all        371        288      0.753      0.677      0.687      0.315\n",
            "\n",
            "      Epoch    GPU_mem   box_loss   cls_loss   dfl_loss  Instances       Size\n",
            "      46/50      6.42G       1.64      1.168      1.898          1        640: 100% 160/160 [00:58<00:00,  2.73it/s]\n",
            "                 Class     Images  Instances      Box(P          R      mAP50  mAP50-95): 100% 12/12 [00:04<00:00,  2.68it/s]\n",
            "                   all        371        288      0.794      0.639       0.69      0.311\n",
            "\n",
            "      Epoch    GPU_mem   box_loss   cls_loss   dfl_loss  Instances       Size\n",
            "      47/50      6.49G      1.582      1.078      1.858          0        640: 100% 160/160 [00:58<00:00,  2.73it/s]\n",
            "                 Class     Images  Instances      Box(P          R      mAP50  mAP50-95): 100% 12/12 [00:05<00:00,  2.06it/s]\n",
            "                   all        371        288      0.764      0.653      0.712      0.323\n",
            "\n",
            "      Epoch    GPU_mem   box_loss   cls_loss   dfl_loss  Instances       Size\n",
            "      48/50      6.56G      1.593      1.075      1.864          1        640: 100% 160/160 [00:58<00:00,  2.72it/s]\n",
            "                 Class     Images  Instances      Box(P          R      mAP50  mAP50-95): 100% 12/12 [00:04<00:00,  2.56it/s]\n",
            "                   all        371        288      0.796      0.662      0.727      0.332\n",
            "\n",
            "      Epoch    GPU_mem   box_loss   cls_loss   dfl_loss  Instances       Size\n",
            "      49/50      6.63G       1.58      1.051      1.842          0        640: 100% 160/160 [00:58<00:00,  2.73it/s]\n",
            "                 Class     Images  Instances      Box(P          R      mAP50  mAP50-95): 100% 12/12 [00:04<00:00,  2.67it/s]\n",
            "                   all        371        288      0.787      0.663      0.697      0.309\n",
            "\n",
            "      Epoch    GPU_mem   box_loss   cls_loss   dfl_loss  Instances       Size\n",
            "      50/50       6.7G      1.542     0.9945      1.805          0        640: 100% 160/160 [00:57<00:00,  2.76it/s]\n",
            "                 Class     Images  Instances      Box(P          R      mAP50  mAP50-95): 100% 12/12 [00:05<00:00,  2.10it/s]\n",
            "                   all        371        288      0.805       0.67       0.72      0.327\n",
            "\n",
            "50 epochs completed in 0.939 hours.\n",
            "Optimizer stripped from runs/detect/train2/weights/last.pt, 22.5MB\n",
            "Optimizer stripped from runs/detect/train2/weights/best.pt, 22.5MB\n",
            "\n",
            "Validating runs/detect/train2/weights/best.pt...\n",
            "Ultralytics 8.3.96 🚀 Python-3.11.11 torch-2.6.0+cu124 CUDA:0 (Tesla T4, 15095MiB)\n",
            "Model summary (fused): 72 layers, 11,125,971 parameters, 0 gradients, 28.4 GFLOPs\n",
            "                 Class     Images  Instances      Box(P          R      mAP50  mAP50-95): 100% 12/12 [00:08<00:00,  1.48it/s]\n",
            "                   all        371        288      0.839      0.687      0.735      0.334\n",
            "Speed: 0.3ms preprocess, 14.1ms inference, 0.0ms loss, 2.2ms postprocess per image\n",
            "Results saved to \u001b[1mruns/detect/train2\u001b[0m\n",
            "💡 Learn more at https://docs.ultralytics.com/modes/train\n"
          ]
        }
      ]
    },
    {
      "cell_type": "code",
      "source": [
        "#download runs folder\n",
        "!zip -r /content/runs1.zip /content/drive/MyDrive/dataset-3250/runs"
      ],
      "metadata": {
        "colab": {
          "base_uri": "https://localhost:8080/"
        },
        "id": "RDwuCKJoxGnQ",
        "outputId": "67a2b70b-98c3-4566-9db6-418ca18029e6"
      },
      "execution_count": 9,
      "outputs": [
        {
          "output_type": "stream",
          "name": "stdout",
          "text": [
            "  adding: content/drive/MyDrive/dataset-3250/runs/ (stored 0%)\n",
            "  adding: content/drive/MyDrive/dataset-3250/runs/detect/ (stored 0%)\n",
            "  adding: content/drive/MyDrive/dataset-3250/runs/detect/train/ (stored 0%)\n",
            "  adding: content/drive/MyDrive/dataset-3250/runs/detect/train/weights/ (stored 0%)\n",
            "  adding: content/drive/MyDrive/dataset-3250/runs/detect/train/args.yaml (deflated 53%)\n",
            "  adding: content/drive/MyDrive/dataset-3250/runs/detect/train2/ (stored 0%)\n",
            "  adding: content/drive/MyDrive/dataset-3250/runs/detect/train2/weights/ (stored 0%)\n",
            "  adding: content/drive/MyDrive/dataset-3250/runs/detect/train2/weights/last.pt (deflated 7%)\n",
            "  adding: content/drive/MyDrive/dataset-3250/runs/detect/train2/weights/best.pt (deflated 7%)\n",
            "  adding: content/drive/MyDrive/dataset-3250/runs/detect/train2/args.yaml (deflated 52%)\n",
            "  adding: content/drive/MyDrive/dataset-3250/runs/detect/train2/events.out.tfevents.1742922666.c0784bfec901.4827.0 (deflated 90%)\n",
            "  adding: content/drive/MyDrive/dataset-3250/runs/detect/train2/labels_correlogram.jpg (deflated 41%)\n",
            "  adding: content/drive/MyDrive/dataset-3250/runs/detect/train2/labels.jpg (deflated 30%)\n",
            "  adding: content/drive/MyDrive/dataset-3250/runs/detect/train2/train_batch0.jpg (deflated 1%)\n",
            "  adding: content/drive/MyDrive/dataset-3250/runs/detect/train2/train_batch1.jpg (deflated 1%)\n",
            "  adding: content/drive/MyDrive/dataset-3250/runs/detect/train2/train_batch2.jpg (deflated 2%)\n",
            "  adding: content/drive/MyDrive/dataset-3250/runs/detect/train2/results.csv (deflated 59%)\n",
            "  adding: content/drive/MyDrive/dataset-3250/runs/detect/train2/train_batch6400.jpg (deflated 7%)\n",
            "  adding: content/drive/MyDrive/dataset-3250/runs/detect/train2/train_batch6401.jpg (deflated 4%)\n",
            "  adding: content/drive/MyDrive/dataset-3250/runs/detect/train2/train_batch6402.jpg (deflated 4%)\n",
            "  adding: content/drive/MyDrive/dataset-3250/runs/detect/train2/val_batch0_labels.jpg (deflated 6%)\n",
            "  adding: content/drive/MyDrive/dataset-3250/runs/detect/train2/val_batch0_pred.jpg (deflated 6%)\n",
            "  adding: content/drive/MyDrive/dataset-3250/runs/detect/train2/val_batch1_pred.jpg (deflated 7%)\n",
            "  adding: content/drive/MyDrive/dataset-3250/runs/detect/train2/val_batch1_labels.jpg (deflated 7%)\n",
            "  adding: content/drive/MyDrive/dataset-3250/runs/detect/train2/val_batch2_pred.jpg (deflated 7%)\n",
            "  adding: content/drive/MyDrive/dataset-3250/runs/detect/train2/val_batch2_labels.jpg (deflated 8%)\n",
            "  adding: content/drive/MyDrive/dataset-3250/runs/detect/train2/PR_curve.png (deflated 19%)\n",
            "  adding: content/drive/MyDrive/dataset-3250/runs/detect/train2/F1_curve.png (deflated 17%)\n",
            "  adding: content/drive/MyDrive/dataset-3250/runs/detect/train2/P_curve.png (deflated 16%)\n",
            "  adding: content/drive/MyDrive/dataset-3250/runs/detect/train2/R_curve.png (deflated 17%)\n",
            "  adding: content/drive/MyDrive/dataset-3250/runs/detect/train2/confusion_matrix_normalized.png (deflated 36%)\n",
            "  adding: content/drive/MyDrive/dataset-3250/runs/detect/train2/confusion_matrix.png (deflated 36%)\n",
            "  adding: content/drive/MyDrive/dataset-3250/runs/detect/train2/results.png (deflated 7%)\n"
          ]
        }
      ]
    },
    {
      "cell_type": "code",
      "source": [
        "#download zip file\n",
        "from google.colab import files\n",
        "files.download(\"/content/runs1.zip\")"
      ],
      "metadata": {
        "colab": {
          "base_uri": "https://localhost:8080/",
          "height": 17
        },
        "id": "Uzr4djOByL3k",
        "outputId": "121c165a-9e78-4b7e-947f-1f21477071a1"
      },
      "execution_count": 10,
      "outputs": [
        {
          "output_type": "display_data",
          "data": {
            "text/plain": [
              "<IPython.core.display.Javascript object>"
            ],
            "application/javascript": [
              "\n",
              "    async function download(id, filename, size) {\n",
              "      if (!google.colab.kernel.accessAllowed) {\n",
              "        return;\n",
              "      }\n",
              "      const div = document.createElement('div');\n",
              "      const label = document.createElement('label');\n",
              "      label.textContent = `Downloading \"${filename}\": `;\n",
              "      div.appendChild(label);\n",
              "      const progress = document.createElement('progress');\n",
              "      progress.max = size;\n",
              "      div.appendChild(progress);\n",
              "      document.body.appendChild(div);\n",
              "\n",
              "      const buffers = [];\n",
              "      let downloaded = 0;\n",
              "\n",
              "      const channel = await google.colab.kernel.comms.open(id);\n",
              "      // Send a message to notify the kernel that we're ready.\n",
              "      channel.send({})\n",
              "\n",
              "      for await (const message of channel.messages) {\n",
              "        // Send a message to notify the kernel that we're ready.\n",
              "        channel.send({})\n",
              "        if (message.buffers) {\n",
              "          for (const buffer of message.buffers) {\n",
              "            buffers.push(buffer);\n",
              "            downloaded += buffer.byteLength;\n",
              "            progress.value = downloaded;\n",
              "          }\n",
              "        }\n",
              "      }\n",
              "      const blob = new Blob(buffers, {type: 'application/binary'});\n",
              "      const a = document.createElement('a');\n",
              "      a.href = window.URL.createObjectURL(blob);\n",
              "      a.download = filename;\n",
              "      div.appendChild(a);\n",
              "      a.click();\n",
              "      div.remove();\n",
              "    }\n",
              "  "
            ]
          },
          "metadata": {}
        },
        {
          "output_type": "display_data",
          "data": {
            "text/plain": [
              "<IPython.core.display.Javascript object>"
            ],
            "application/javascript": [
              "download(\"download_9d68bb19-e75e-41ff-9404-07431e1dc2bc\", \"runs1.zip\", 49617818)"
            ]
          },
          "metadata": {}
        }
      ]
    },
    {
      "cell_type": "code",
      "source": [
        "!yolo task=detect mode=val model=/content/drive/MyDrive/dataset-3250/runs/detect/train2/weights/best.pt data=/content/drive/MyDrive/dataset-3250/data.yaml"
      ],
      "metadata": {
        "colab": {
          "base_uri": "https://localhost:8080/"
        },
        "id": "X5F_QMKgypZM",
        "outputId": "08930e1c-1434-4c48-de88-30ae0b6b2f66"
      },
      "execution_count": 11,
      "outputs": [
        {
          "output_type": "stream",
          "name": "stdout",
          "text": [
            "Ultralytics 8.3.96 🚀 Python-3.11.11 torch-2.6.0+cu124 CUDA:0 (Tesla T4, 15095MiB)\n",
            "Model summary (fused): 72 layers, 11,125,971 parameters, 0 gradients, 28.4 GFLOPs\n",
            "\u001b[34m\u001b[1mval: \u001b[0mScanning /content/drive/MyDrive/dataset-3250/valid/labels.cache... 371 images, 127 backgrounds, 0 corrupt: 100% 371/371 [00:00<?, ?it/s]\n",
            "                 Class     Images  Instances      Box(P          R      mAP50  mAP50-95): 100% 24/24 [00:06<00:00,  3.70it/s]\n",
            "                   all        371        288      0.796      0.662      0.727      0.332\n",
            "Speed: 1.0ms preprocess, 9.1ms inference, 0.0ms loss, 2.0ms postprocess per image\n",
            "Results saved to \u001b[1mruns/detect/val\u001b[0m\n",
            "💡 Learn more at https://docs.ultralytics.com/modes/val\n"
          ]
        }
      ]
    },
    {
      "cell_type": "code",
      "source": [
        "#downolad runs\n",
        "!zip -r /content/runs2.zip /content/drive/MyDrive/dataset-3250/runs"
      ],
      "metadata": {
        "colab": {
          "base_uri": "https://localhost:8080/"
        },
        "id": "edygdcqY1FwB",
        "outputId": "daaef5bf-adf2-44da-fc01-85bc50399807"
      },
      "execution_count": 12,
      "outputs": [
        {
          "output_type": "stream",
          "name": "stdout",
          "text": [
            "  adding: content/drive/MyDrive/dataset-3250/runs/ (stored 0%)\n",
            "  adding: content/drive/MyDrive/dataset-3250/runs/detect/ (stored 0%)\n",
            "  adding: content/drive/MyDrive/dataset-3250/runs/detect/train/ (stored 0%)\n",
            "  adding: content/drive/MyDrive/dataset-3250/runs/detect/train/weights/ (stored 0%)\n",
            "  adding: content/drive/MyDrive/dataset-3250/runs/detect/train/args.yaml (deflated 53%)\n",
            "  adding: content/drive/MyDrive/dataset-3250/runs/detect/train2/ (stored 0%)\n",
            "  adding: content/drive/MyDrive/dataset-3250/runs/detect/train2/weights/ (stored 0%)\n",
            "  adding: content/drive/MyDrive/dataset-3250/runs/detect/train2/weights/last.pt (deflated 7%)\n",
            "  adding: content/drive/MyDrive/dataset-3250/runs/detect/train2/weights/best.pt (deflated 7%)\n",
            "  adding: content/drive/MyDrive/dataset-3250/runs/detect/train2/args.yaml (deflated 52%)\n",
            "  adding: content/drive/MyDrive/dataset-3250/runs/detect/train2/events.out.tfevents.1742922666.c0784bfec901.4827.0 (deflated 90%)\n",
            "  adding: content/drive/MyDrive/dataset-3250/runs/detect/train2/labels_correlogram.jpg (deflated 41%)\n",
            "  adding: content/drive/MyDrive/dataset-3250/runs/detect/train2/labels.jpg (deflated 30%)\n",
            "  adding: content/drive/MyDrive/dataset-3250/runs/detect/train2/train_batch0.jpg (deflated 1%)\n",
            "  adding: content/drive/MyDrive/dataset-3250/runs/detect/train2/train_batch1.jpg (deflated 1%)\n",
            "  adding: content/drive/MyDrive/dataset-3250/runs/detect/train2/train_batch2.jpg (deflated 2%)\n",
            "  adding: content/drive/MyDrive/dataset-3250/runs/detect/train2/results.csv (deflated 59%)\n",
            "  adding: content/drive/MyDrive/dataset-3250/runs/detect/train2/train_batch6400.jpg (deflated 7%)\n",
            "  adding: content/drive/MyDrive/dataset-3250/runs/detect/train2/train_batch6401.jpg (deflated 4%)\n",
            "  adding: content/drive/MyDrive/dataset-3250/runs/detect/train2/train_batch6402.jpg (deflated 4%)\n",
            "  adding: content/drive/MyDrive/dataset-3250/runs/detect/train2/val_batch0_labels.jpg (deflated 6%)\n",
            "  adding: content/drive/MyDrive/dataset-3250/runs/detect/train2/val_batch0_pred.jpg (deflated 6%)\n",
            "  adding: content/drive/MyDrive/dataset-3250/runs/detect/train2/val_batch1_pred.jpg (deflated 7%)\n",
            "  adding: content/drive/MyDrive/dataset-3250/runs/detect/train2/val_batch1_labels.jpg (deflated 7%)\n",
            "  adding: content/drive/MyDrive/dataset-3250/runs/detect/train2/val_batch2_pred.jpg (deflated 7%)\n",
            "  adding: content/drive/MyDrive/dataset-3250/runs/detect/train2/val_batch2_labels.jpg (deflated 8%)\n",
            "  adding: content/drive/MyDrive/dataset-3250/runs/detect/train2/PR_curve.png (deflated 19%)\n",
            "  adding: content/drive/MyDrive/dataset-3250/runs/detect/train2/F1_curve.png (deflated 17%)\n",
            "  adding: content/drive/MyDrive/dataset-3250/runs/detect/train2/P_curve.png (deflated 16%)\n",
            "  adding: content/drive/MyDrive/dataset-3250/runs/detect/train2/R_curve.png (deflated 17%)\n",
            "  adding: content/drive/MyDrive/dataset-3250/runs/detect/train2/confusion_matrix_normalized.png (deflated 36%)\n",
            "  adding: content/drive/MyDrive/dataset-3250/runs/detect/train2/confusion_matrix.png (deflated 36%)\n",
            "  adding: content/drive/MyDrive/dataset-3250/runs/detect/train2/results.png (deflated 7%)\n",
            "  adding: content/drive/MyDrive/dataset-3250/runs/detect/val/ (stored 0%)\n",
            "  adding: content/drive/MyDrive/dataset-3250/runs/detect/val/val_batch0_labels.jpg (deflated 6%)\n",
            "  adding: content/drive/MyDrive/dataset-3250/runs/detect/val/val_batch0_pred.jpg (deflated 6%)\n",
            "  adding: content/drive/MyDrive/dataset-3250/runs/detect/val/val_batch1_labels.jpg (deflated 5%)\n",
            "  adding: content/drive/MyDrive/dataset-3250/runs/detect/val/val_batch1_pred.jpg (deflated 5%)\n",
            "  adding: content/drive/MyDrive/dataset-3250/runs/detect/val/val_batch2_labels.jpg (deflated 7%)\n",
            "  adding: content/drive/MyDrive/dataset-3250/runs/detect/val/val_batch2_pred.jpg (deflated 7%)\n",
            "  adding: content/drive/MyDrive/dataset-3250/runs/detect/val/PR_curve.png (deflated 19%)\n",
            "  adding: content/drive/MyDrive/dataset-3250/runs/detect/val/F1_curve.png (deflated 17%)\n",
            "  adding: content/drive/MyDrive/dataset-3250/runs/detect/val/P_curve.png (deflated 17%)\n",
            "  adding: content/drive/MyDrive/dataset-3250/runs/detect/val/R_curve.png (deflated 17%)\n",
            "  adding: content/drive/MyDrive/dataset-3250/runs/detect/val/confusion_matrix_normalized.png (deflated 36%)\n",
            "  adding: content/drive/MyDrive/dataset-3250/runs/detect/val/confusion_matrix.png (deflated 38%)\n"
          ]
        }
      ]
    },
    {
      "cell_type": "code",
      "source": [
        "#download zip\n",
        "from google.colab import files\n",
        "files.download(\"/content/runs2.zip\")"
      ],
      "metadata": {
        "colab": {
          "base_uri": "https://localhost:8080/",
          "height": 17
        },
        "id": "czXvsxnD1Ryp",
        "outputId": "63632281-5ba6-46e1-ae50-06586d3be7c4"
      },
      "execution_count": 14,
      "outputs": [
        {
          "output_type": "display_data",
          "data": {
            "text/plain": [
              "<IPython.core.display.Javascript object>"
            ],
            "application/javascript": [
              "\n",
              "    async function download(id, filename, size) {\n",
              "      if (!google.colab.kernel.accessAllowed) {\n",
              "        return;\n",
              "      }\n",
              "      const div = document.createElement('div');\n",
              "      const label = document.createElement('label');\n",
              "      label.textContent = `Downloading \"${filename}\": `;\n",
              "      div.appendChild(label);\n",
              "      const progress = document.createElement('progress');\n",
              "      progress.max = size;\n",
              "      div.appendChild(progress);\n",
              "      document.body.appendChild(div);\n",
              "\n",
              "      const buffers = [];\n",
              "      let downloaded = 0;\n",
              "\n",
              "      const channel = await google.colab.kernel.comms.open(id);\n",
              "      // Send a message to notify the kernel that we're ready.\n",
              "      channel.send({})\n",
              "\n",
              "      for await (const message of channel.messages) {\n",
              "        // Send a message to notify the kernel that we're ready.\n",
              "        channel.send({})\n",
              "        if (message.buffers) {\n",
              "          for (const buffer of message.buffers) {\n",
              "            buffers.push(buffer);\n",
              "            downloaded += buffer.byteLength;\n",
              "            progress.value = downloaded;\n",
              "          }\n",
              "        }\n",
              "      }\n",
              "      const blob = new Blob(buffers, {type: 'application/binary'});\n",
              "      const a = document.createElement('a');\n",
              "      a.href = window.URL.createObjectURL(blob);\n",
              "      a.download = filename;\n",
              "      div.appendChild(a);\n",
              "      a.click();\n",
              "      div.remove();\n",
              "    }\n",
              "  "
            ]
          },
          "metadata": {}
        },
        {
          "output_type": "display_data",
          "data": {
            "text/plain": [
              "<IPython.core.display.Javascript object>"
            ],
            "application/javascript": [
              "download(\"download_38202657-c4ca-4d28-b643-4a6cc4c9bc5b\", \"runs2.zip\", 53880699)"
            ]
          },
          "metadata": {}
        }
      ]
    },
    {
      "cell_type": "code",
      "source": [
        "!yolo task=detect mode=val model=/content/drive/MyDrive/dataset-3250/runs/detect/train2/weights/best.pt conf=0.7 data=/content/drive/MyDrive/dataset-3250/data.yaml"
      ],
      "metadata": {
        "colab": {
          "base_uri": "https://localhost:8080/"
        },
        "id": "k1KZi3Bf3-T0",
        "outputId": "903eee0c-974d-4000-eb32-e3a502f4302a"
      },
      "execution_count": 15,
      "outputs": [
        {
          "output_type": "stream",
          "name": "stdout",
          "text": [
            "Ultralytics 8.3.96 🚀 Python-3.11.11 torch-2.6.0+cu124 CUDA:0 (Tesla T4, 15095MiB)\n",
            "Model summary (fused): 72 layers, 11,125,971 parameters, 0 gradients, 28.4 GFLOPs\n",
            "\u001b[34m\u001b[1mval: \u001b[0mScanning /content/drive/MyDrive/dataset-3250/valid/labels.cache... 371 images, 127 backgrounds, 0 corrupt: 100% 371/371 [00:00<?, ?it/s]\n",
            "                 Class     Images  Instances      Box(P          R      mAP50  mAP50-95): 100% 24/24 [00:06<00:00,  3.66it/s]\n",
            "                   all        371        288      0.988      0.285      0.637       0.37\n",
            "Speed: 1.7ms preprocess, 9.0ms inference, 0.0ms loss, 1.7ms postprocess per image\n",
            "Results saved to \u001b[1mruns/detect/val2\u001b[0m\n",
            "💡 Learn more at https://docs.ultralytics.com/modes/val\n"
          ]
        }
      ]
    },
    {
      "cell_type": "code",
      "source": [
        "!yolo task=detect mode=val model=/content/drive/MyDrive/dataset-3250/runs/detect/train2/weights/best.pt conf=0.6 data=/content/drive/MyDrive/dataset-3250/data.yaml"
      ],
      "metadata": {
        "colab": {
          "base_uri": "https://localhost:8080/"
        },
        "id": "ctUY7W5R4iCk",
        "outputId": "563a7d76-13b8-4a4b-fbfc-1a5d3140cbea"
      },
      "execution_count": 16,
      "outputs": [
        {
          "output_type": "stream",
          "name": "stdout",
          "text": [
            "Ultralytics 8.3.96 🚀 Python-3.11.11 torch-2.6.0+cu124 CUDA:0 (Tesla T4, 15095MiB)\n",
            "Model summary (fused): 72 layers, 11,125,971 parameters, 0 gradients, 28.4 GFLOPs\n",
            "\u001b[34m\u001b[1mval: \u001b[0mScanning /content/drive/MyDrive/dataset-3250/valid/labels.cache... 371 images, 127 backgrounds, 0 corrupt: 100% 371/371 [00:00<?, ?it/s]\n",
            "                 Class     Images  Instances      Box(P          R      mAP50  mAP50-95): 100% 24/24 [00:07<00:00,  3.09it/s]\n",
            "                   all        371        288      0.892      0.514      0.719      0.376\n",
            "Speed: 1.1ms preprocess, 10.4ms inference, 0.0ms loss, 1.7ms postprocess per image\n",
            "Results saved to \u001b[1mruns/detect/val3\u001b[0m\n",
            "💡 Learn more at https://docs.ultralytics.com/modes/val\n"
          ]
        }
      ]
    },
    {
      "cell_type": "code",
      "source": [
        "!yolo task=detect mode=val model=/content/drive/MyDrive/dataset-3250/runs/detect/train2/weights/best.pt conf=0.5 data=/content/drive/MyDrive/dataset-3250/data.yaml"
      ],
      "metadata": {
        "colab": {
          "base_uri": "https://localhost:8080/"
        },
        "id": "ZEh3L4dw42HD",
        "outputId": "28fa870a-3dde-42de-e730-00472d4c44e1"
      },
      "execution_count": 17,
      "outputs": [
        {
          "output_type": "stream",
          "name": "stdout",
          "text": [
            "Ultralytics 8.3.96 🚀 Python-3.11.11 torch-2.6.0+cu124 CUDA:0 (Tesla T4, 15095MiB)\n",
            "Model summary (fused): 72 layers, 11,125,971 parameters, 0 gradients, 28.4 GFLOPs\n",
            "\u001b[34m\u001b[1mval: \u001b[0mScanning /content/drive/MyDrive/dataset-3250/valid/labels.cache... 371 images, 127 backgrounds, 0 corrupt: 100% 371/371 [00:00<?, ?it/s]\n",
            "                 Class     Images  Instances      Box(P          R      mAP50  mAP50-95): 100% 24/24 [00:06<00:00,  3.91it/s]\n",
            "                   all        371        288      0.829      0.608      0.747      0.384\n",
            "Speed: 1.0ms preprocess, 9.6ms inference, 0.0ms loss, 1.6ms postprocess per image\n",
            "Results saved to \u001b[1mruns/detect/val4\u001b[0m\n",
            "💡 Learn more at https://docs.ultralytics.com/modes/val\n"
          ]
        }
      ]
    },
    {
      "cell_type": "code",
      "source": [
        "#download runs folder\n",
        "!zip -r /content/runs3.zip /content/drive/MyDrive/dataset-3250/runs"
      ],
      "metadata": {
        "colab": {
          "base_uri": "https://localhost:8080/"
        },
        "id": "ig2z4EaS5D29",
        "outputId": "b3d92b2e-89d3-4a6a-d84c-95f475558366"
      },
      "execution_count": 18,
      "outputs": [
        {
          "output_type": "stream",
          "name": "stdout",
          "text": [
            "  adding: content/drive/MyDrive/dataset-3250/runs/ (stored 0%)\n",
            "  adding: content/drive/MyDrive/dataset-3250/runs/detect/ (stored 0%)\n",
            "  adding: content/drive/MyDrive/dataset-3250/runs/detect/train/ (stored 0%)\n",
            "  adding: content/drive/MyDrive/dataset-3250/runs/detect/train/weights/ (stored 0%)\n",
            "  adding: content/drive/MyDrive/dataset-3250/runs/detect/train/args.yaml (deflated 53%)\n",
            "  adding: content/drive/MyDrive/dataset-3250/runs/detect/train2/ (stored 0%)\n",
            "  adding: content/drive/MyDrive/dataset-3250/runs/detect/train2/weights/ (stored 0%)\n",
            "  adding: content/drive/MyDrive/dataset-3250/runs/detect/train2/weights/last.pt (deflated 7%)\n",
            "  adding: content/drive/MyDrive/dataset-3250/runs/detect/train2/weights/best.pt (deflated 7%)\n",
            "  adding: content/drive/MyDrive/dataset-3250/runs/detect/train2/args.yaml (deflated 52%)\n",
            "  adding: content/drive/MyDrive/dataset-3250/runs/detect/train2/events.out.tfevents.1742922666.c0784bfec901.4827.0 (deflated 90%)\n",
            "  adding: content/drive/MyDrive/dataset-3250/runs/detect/train2/labels_correlogram.jpg (deflated 41%)\n",
            "  adding: content/drive/MyDrive/dataset-3250/runs/detect/train2/labels.jpg (deflated 30%)\n",
            "  adding: content/drive/MyDrive/dataset-3250/runs/detect/train2/train_batch0.jpg (deflated 1%)\n",
            "  adding: content/drive/MyDrive/dataset-3250/runs/detect/train2/train_batch1.jpg (deflated 1%)\n",
            "  adding: content/drive/MyDrive/dataset-3250/runs/detect/train2/train_batch2.jpg (deflated 2%)\n",
            "  adding: content/drive/MyDrive/dataset-3250/runs/detect/train2/results.csv (deflated 59%)\n",
            "  adding: content/drive/MyDrive/dataset-3250/runs/detect/train2/train_batch6400.jpg (deflated 7%)\n",
            "  adding: content/drive/MyDrive/dataset-3250/runs/detect/train2/train_batch6401.jpg (deflated 4%)\n",
            "  adding: content/drive/MyDrive/dataset-3250/runs/detect/train2/train_batch6402.jpg (deflated 4%)\n",
            "  adding: content/drive/MyDrive/dataset-3250/runs/detect/train2/val_batch0_labels.jpg (deflated 6%)\n",
            "  adding: content/drive/MyDrive/dataset-3250/runs/detect/train2/val_batch0_pred.jpg (deflated 6%)\n",
            "  adding: content/drive/MyDrive/dataset-3250/runs/detect/train2/val_batch1_pred.jpg (deflated 7%)\n",
            "  adding: content/drive/MyDrive/dataset-3250/runs/detect/train2/val_batch1_labels.jpg (deflated 7%)\n",
            "  adding: content/drive/MyDrive/dataset-3250/runs/detect/train2/val_batch2_pred.jpg (deflated 7%)\n",
            "  adding: content/drive/MyDrive/dataset-3250/runs/detect/train2/val_batch2_labels.jpg (deflated 8%)\n",
            "  adding: content/drive/MyDrive/dataset-3250/runs/detect/train2/PR_curve.png (deflated 19%)\n",
            "  adding: content/drive/MyDrive/dataset-3250/runs/detect/train2/F1_curve.png (deflated 17%)\n",
            "  adding: content/drive/MyDrive/dataset-3250/runs/detect/train2/P_curve.png (deflated 16%)\n",
            "  adding: content/drive/MyDrive/dataset-3250/runs/detect/train2/R_curve.png (deflated 17%)\n",
            "  adding: content/drive/MyDrive/dataset-3250/runs/detect/train2/confusion_matrix_normalized.png (deflated 36%)\n",
            "  adding: content/drive/MyDrive/dataset-3250/runs/detect/train2/confusion_matrix.png (deflated 36%)\n",
            "  adding: content/drive/MyDrive/dataset-3250/runs/detect/train2/results.png (deflated 7%)\n",
            "  adding: content/drive/MyDrive/dataset-3250/runs/detect/val/ (stored 0%)\n",
            "  adding: content/drive/MyDrive/dataset-3250/runs/detect/val/val_batch0_labels.jpg (deflated 6%)\n",
            "  adding: content/drive/MyDrive/dataset-3250/runs/detect/val/val_batch0_pred.jpg (deflated 6%)\n",
            "  adding: content/drive/MyDrive/dataset-3250/runs/detect/val/val_batch1_labels.jpg (deflated 5%)\n",
            "  adding: content/drive/MyDrive/dataset-3250/runs/detect/val/val_batch1_pred.jpg (deflated 5%)\n",
            "  adding: content/drive/MyDrive/dataset-3250/runs/detect/val/val_batch2_labels.jpg (deflated 7%)\n",
            "  adding: content/drive/MyDrive/dataset-3250/runs/detect/val/val_batch2_pred.jpg (deflated 7%)\n",
            "  adding: content/drive/MyDrive/dataset-3250/runs/detect/val/PR_curve.png (deflated 19%)\n",
            "  adding: content/drive/MyDrive/dataset-3250/runs/detect/val/F1_curve.png (deflated 17%)\n",
            "  adding: content/drive/MyDrive/dataset-3250/runs/detect/val/P_curve.png (deflated 17%)\n",
            "  adding: content/drive/MyDrive/dataset-3250/runs/detect/val/R_curve.png (deflated 17%)\n",
            "  adding: content/drive/MyDrive/dataset-3250/runs/detect/val/confusion_matrix_normalized.png (deflated 36%)\n",
            "  adding: content/drive/MyDrive/dataset-3250/runs/detect/val/confusion_matrix.png (deflated 38%)\n",
            "  adding: content/drive/MyDrive/dataset-3250/runs/detect/val2/ (stored 0%)\n",
            "  adding: content/drive/MyDrive/dataset-3250/runs/detect/val2/val_batch0_labels.jpg (deflated 6%)\n",
            "  adding: content/drive/MyDrive/dataset-3250/runs/detect/val2/val_batch0_pred.jpg (deflated 6%)\n",
            "  adding: content/drive/MyDrive/dataset-3250/runs/detect/val2/val_batch1_labels.jpg (deflated 5%)\n",
            "  adding: content/drive/MyDrive/dataset-3250/runs/detect/val2/val_batch1_pred.jpg (deflated 5%)\n",
            "  adding: content/drive/MyDrive/dataset-3250/runs/detect/val2/val_batch2_pred.jpg (deflated 7%)\n",
            "  adding: content/drive/MyDrive/dataset-3250/runs/detect/val2/val_batch2_labels.jpg (deflated 7%)\n",
            "  adding: content/drive/MyDrive/dataset-3250/runs/detect/val2/PR_curve.png (deflated 20%)\n",
            "  adding: content/drive/MyDrive/dataset-3250/runs/detect/val2/F1_curve.png (deflated 24%)\n",
            "  adding: content/drive/MyDrive/dataset-3250/runs/detect/val2/P_curve.png (deflated 29%)\n",
            "  adding: content/drive/MyDrive/dataset-3250/runs/detect/val2/R_curve.png (deflated 24%)\n",
            "  adding: content/drive/MyDrive/dataset-3250/runs/detect/val2/confusion_matrix_normalized.png (deflated 37%)\n",
            "  adding: content/drive/MyDrive/dataset-3250/runs/detect/val2/confusion_matrix.png (deflated 37%)\n",
            "  adding: content/drive/MyDrive/dataset-3250/runs/detect/val3/ (stored 0%)\n",
            "  adding: content/drive/MyDrive/dataset-3250/runs/detect/val3/val_batch0_labels.jpg (deflated 6%)\n",
            "  adding: content/drive/MyDrive/dataset-3250/runs/detect/val3/val_batch0_pred.jpg (deflated 6%)\n",
            "  adding: content/drive/MyDrive/dataset-3250/runs/detect/val3/val_batch1_labels.jpg (deflated 5%)\n",
            "  adding: content/drive/MyDrive/dataset-3250/runs/detect/val3/val_batch1_pred.jpg (deflated 5%)\n",
            "  adding: content/drive/MyDrive/dataset-3250/runs/detect/val3/val_batch2_labels.jpg (deflated 7%)\n",
            "  adding: content/drive/MyDrive/dataset-3250/runs/detect/val3/val_batch2_pred.jpg (deflated 7%)\n",
            "  adding: content/drive/MyDrive/dataset-3250/runs/detect/val3/PR_curve.png (deflated 20%)\n",
            "  adding: content/drive/MyDrive/dataset-3250/runs/detect/val3/F1_curve.png (deflated 21%)\n",
            "  adding: content/drive/MyDrive/dataset-3250/runs/detect/val3/P_curve.png (deflated 26%)\n",
            "  adding: content/drive/MyDrive/dataset-3250/runs/detect/val3/R_curve.png (deflated 22%)\n",
            "  adding: content/drive/MyDrive/dataset-3250/runs/detect/val3/confusion_matrix_normalized.png (deflated 37%)\n",
            "  adding: content/drive/MyDrive/dataset-3250/runs/detect/val3/confusion_matrix.png (deflated 38%)\n",
            "  adding: content/drive/MyDrive/dataset-3250/runs/detect/val4/ (stored 0%)\n",
            "  adding: content/drive/MyDrive/dataset-3250/runs/detect/val4/val_batch0_labels.jpg (deflated 6%)\n",
            "  adding: content/drive/MyDrive/dataset-3250/runs/detect/val4/val_batch0_pred.jpg (deflated 6%)\n",
            "  adding: content/drive/MyDrive/dataset-3250/runs/detect/val4/val_batch1_labels.jpg (deflated 5%)\n",
            "  adding: content/drive/MyDrive/dataset-3250/runs/detect/val4/val_batch1_pred.jpg (deflated 5%)\n",
            "  adding: content/drive/MyDrive/dataset-3250/runs/detect/val4/val_batch2_labels.jpg (deflated 7%)\n",
            "  adding: content/drive/MyDrive/dataset-3250/runs/detect/val4/val_batch2_pred.jpg (deflated 7%)\n",
            "  adding: content/drive/MyDrive/dataset-3250/runs/detect/val4/PR_curve.png (deflated 20%)\n",
            "  adding: content/drive/MyDrive/dataset-3250/runs/detect/val4/F1_curve.png (deflated 21%)\n",
            "  adding: content/drive/MyDrive/dataset-3250/runs/detect/val4/P_curve.png (deflated 25%)\n",
            "  adding: content/drive/MyDrive/dataset-3250/runs/detect/val4/R_curve.png (deflated 21%)\n",
            "  adding: content/drive/MyDrive/dataset-3250/runs/detect/val4/confusion_matrix_normalized.png (deflated 36%)\n",
            "  adding: content/drive/MyDrive/dataset-3250/runs/detect/val4/confusion_matrix.png (deflated 38%)\n"
          ]
        }
      ]
    },
    {
      "cell_type": "code",
      "source": [
        "#download zip\n",
        "from google.colab import files\n",
        "files.download(\"/content/runs3.zip\")"
      ],
      "metadata": {
        "colab": {
          "base_uri": "https://localhost:8080/",
          "height": 17
        },
        "id": "2BwmWpJH5LiZ",
        "outputId": "7ec49feb-de5e-415d-a72f-9f4d1b7790f9"
      },
      "execution_count": 19,
      "outputs": [
        {
          "output_type": "display_data",
          "data": {
            "text/plain": [
              "<IPython.core.display.Javascript object>"
            ],
            "application/javascript": [
              "\n",
              "    async function download(id, filename, size) {\n",
              "      if (!google.colab.kernel.accessAllowed) {\n",
              "        return;\n",
              "      }\n",
              "      const div = document.createElement('div');\n",
              "      const label = document.createElement('label');\n",
              "      label.textContent = `Downloading \"${filename}\": `;\n",
              "      div.appendChild(label);\n",
              "      const progress = document.createElement('progress');\n",
              "      progress.max = size;\n",
              "      div.appendChild(progress);\n",
              "      document.body.appendChild(div);\n",
              "\n",
              "      const buffers = [];\n",
              "      let downloaded = 0;\n",
              "\n",
              "      const channel = await google.colab.kernel.comms.open(id);\n",
              "      // Send a message to notify the kernel that we're ready.\n",
              "      channel.send({})\n",
              "\n",
              "      for await (const message of channel.messages) {\n",
              "        // Send a message to notify the kernel that we're ready.\n",
              "        channel.send({})\n",
              "        if (message.buffers) {\n",
              "          for (const buffer of message.buffers) {\n",
              "            buffers.push(buffer);\n",
              "            downloaded += buffer.byteLength;\n",
              "            progress.value = downloaded;\n",
              "          }\n",
              "        }\n",
              "      }\n",
              "      const blob = new Blob(buffers, {type: 'application/binary'});\n",
              "      const a = document.createElement('a');\n",
              "      a.href = window.URL.createObjectURL(blob);\n",
              "      a.download = filename;\n",
              "      div.appendChild(a);\n",
              "      a.click();\n",
              "      div.remove();\n",
              "    }\n",
              "  "
            ]
          },
          "metadata": {}
        },
        {
          "output_type": "display_data",
          "data": {
            "text/plain": [
              "<IPython.core.display.Javascript object>"
            ],
            "application/javascript": [
              "download(\"download_ca6e0cfa-8c08-4b4f-b3cf-fdf1bbb4647a\", \"runs3.zip\", 66377758)"
            ]
          },
          "metadata": {}
        }
      ]
    }
  ]
}